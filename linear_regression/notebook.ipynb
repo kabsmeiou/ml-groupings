{
 "cells": [
  {
   "cell_type": "markdown",
   "id": "0b1e9346-2937-4ca9-968e-5d06ef9443ad",
   "metadata": {},
   "source": [
    "# Activity 3 - Housing Price Prediction using Linear Regression with One Variable"
   ]
  },
  {
   "cell_type": "code",
   "execution_count": 30,
   "id": "cc023ddf-1622-43c1-9979-28fd997def0e",
   "metadata": {},
   "outputs": [
    {
     "data": {
      "text/html": [
       "<div>\n",
       "<style scoped>\n",
       "    .dataframe tbody tr th:only-of-type {\n",
       "        vertical-align: middle;\n",
       "    }\n",
       "\n",
       "    .dataframe tbody tr th {\n",
       "        vertical-align: top;\n",
       "    }\n",
       "\n",
       "    .dataframe thead th {\n",
       "        text-align: right;\n",
       "    }\n",
       "</style>\n",
       "<table border=\"1\" class=\"dataframe\">\n",
       "  <thead>\n",
       "    <tr style=\"text-align: right;\">\n",
       "      <th></th>\n",
       "      <th>0</th>\n",
       "      <th>1</th>\n",
       "      <th>2</th>\n",
       "      <th>3</th>\n",
       "      <th>4</th>\n",
       "    </tr>\n",
       "  </thead>\n",
       "  <tbody>\n",
       "    <tr>\n",
       "      <th>Size (sq ft)</th>\n",
       "      <td>650</td>\n",
       "      <td>700</td>\n",
       "      <td>850</td>\n",
       "      <td>900</td>\n",
       "      <td>1000</td>\n",
       "    </tr>\n",
       "    <tr>\n",
       "      <th>Price ($1000)</th>\n",
       "      <td>150</td>\n",
       "      <td>160</td>\n",
       "      <td>170</td>\n",
       "      <td>175</td>\n",
       "      <td>180</td>\n",
       "    </tr>\n",
       "  </tbody>\n",
       "</table>\n",
       "</div>"
      ],
      "text/plain": [
       "                 0    1    2    3     4\n",
       "Size (sq ft)   650  700  850  900  1000\n",
       "Price ($1000)  150  160  170  175   180"
      ]
     },
     "execution_count": 30,
     "metadata": {},
     "output_type": "execute_result"
    }
   ],
   "source": [
    "import pandas as pd\n",
    "import numpy as np\n",
    "\n",
    "import matplotlib.pyplot as plt\n",
    "import seaborn as sns\n",
    "\n",
    "from sklearn.linear_model import Ridge, Lasso, LinearRegression \n",
    "\n",
    "df = pd.read_csv('housing_price.csv')\n",
    "df.head().T"
   ]
  },
  {
   "cell_type": "markdown",
   "id": "a39148b6-969d-4b39-adf0-18460855fd40",
   "metadata": {},
   "source": [
    "### Data Preparation"
   ]
  },
  {
   "cell_type": "code",
   "execution_count": 31,
   "id": "60645113-e1bb-4fac-94b1-4a9a8121a233",
   "metadata": {},
   "outputs": [],
   "source": [
    "# replace column name for easier access\n",
    "df.columns = ['size_sq_ft', 'price']"
   ]
  },
  {
   "cell_type": "code",
   "execution_count": 42,
   "id": "15645339-1835-4980-9a7c-44832c8dd60f",
   "metadata": {},
   "outputs": [
    {
     "data": {
      "text/plain": [
       "Text(0.5, 1.0, 'Size vs Price')"
      ]
     },
     "execution_count": 42,
     "metadata": {},
     "output_type": "execute_result"
    },
    {
     "data": {
      "image/png": "[encoded data removed]",
      "text/plain": [
       "<Figure size 640x480 with 1 Axes>"
      ]
     },
     "metadata": {},
     "output_type": "display_data"
    }
   ],
   "source": [
    "sns.scatterplot(df, x='size_sq_ft', y='price')\n",
    "plt.xlabel(\"size\")\n",
    "plt.ylabel(\"price\")\n",
    "plt.title(\"Size vs Price\")"
   ]
  },
  {
   "cell_type": "code",
   "execution_count": null,
   "id": "916fa80c-d5ed-4558-aba0-3255d6041088",
   "metadata": {},
   "outputs": [],
   "source": []
  }
 ],
 "metadata": {
  "kernelspec": {
   "display_name": "Python 3 (ipykernel)",
   "language": "python",
   "name": "python3"
  },
  "language_info": {
   "codemirror_mode": {
    "name": "ipython",
    "version": 3
   },
   "file_extension": ".py",
   "mimetype": "text/x-python",
   "name": "python",
   "nbconvert_exporter": "python",
   "pygments_lexer": "ipython3",
   "version": "3.12.1"
  }
 },
 "nbformat": 4,
 "nbformat_minor": 5
}
