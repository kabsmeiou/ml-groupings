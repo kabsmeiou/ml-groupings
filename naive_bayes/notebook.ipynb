{
 "cells": [
  {
   "cell_type": "markdown",
   "id": "aaa4a7ce-5c11-44a7-a2d4-7ae0b44ea49f",
   "metadata": {},
   "source": [
    "# Naive Bayes: Spam or Ham \n",
    "```\n",
    "- Dataset\n",
    "    Download the sample dataset in CSV format containing two columns:\n",
    "        Message: The email text content.\n",
    "        Label: The classification of the email as either Spam or Ham.\n",
    "    You can download a prepared dataset attached from the GClass.\n",
    "    Alternatively, you can manually create your own dataset in Jupyter Notebook.\n",
    "- Data Loading\n",
    "    Import and load the dataset into your Jupyter Notebook file.\n",
    "    There are two files: TrainingData and the TestingData. Your program should predict the probabilities of the TrainingData and test the analysison the TestingData\n",
    "- Data Preprocessing\n",
    "    Use CountVectorizer or any other text preprocessing library to convert the email messages into numerical features.\n",
    "- Implementation\n",
    "    Split the data into training and testing sets.\n",
    "    Implement a Naive Bayes classifier to train the model on the dataset.\n",
    "    Evaluate the model using accuracy metrics and classification reports using your formula.\n",
    "- Visualization\n",
    "    Create an optional visualization of word frequency in spam versus ham messages if desired.\n",
    "- Prediction\n",
    "    Test the model with new email messages (e.g., \"Win a free prize now!\" or \"Meeting tomorrow at 10 AM\").\n",
    "    Print the predicted labels for the test messages.\n",
    "```"
   ]
  },
  {
   "cell_type": "code",
   "execution_count": 93,
   "id": "2b3b013f-391a-4fb9-9edb-97067dad82d6",
   "metadata": {},
   "outputs": [],
   "source": [
    "import pandas as pd \n",
    "import numpy as np\n",
    "\n",
    "import matplotlib.pyplot as plt\n",
    "import seaborn as sns\n",
    "\n",
    "# metrics\n",
    "from sklearn.metrics import accuracy_score\n",
    "\n",
    "# feature engineering\n",
    "from sklearn.feature_extraction.text import CountVectorizer\n",
    "\n",
    "from sklearn.model_selection import train_test_split\n",
    "\n",
    "# cleaning text\n",
    "import re\n",
    "from nltk.corpus import stopwords\n",
    "from nltk.stem import PorterStemmer\n",
    "from nltk.tokenize import word_tokenize\n",
    "\n",
    "# handle class imbalance\n",
    "from imblearn.over_sampling import RandomOverSampler\n",
    "\n",
    "# TF-IDF Vectorization\n",
    "from sklearn.feature_extraction.text import TfidfVectorizer\n",
    "from sklearn.ensemble import RandomForestClassifier\n",
    "from sklearn.metrics import confusion_matrix, classification_report"
   ]
  },
  {
   "cell_type": "code",
   "execution_count": 94,
   "id": "683435df-1945-4e89-9f7f-4c787e60c75d",
   "metadata": {},
   "outputs": [],
   "source": [
    "# read utf-8 csv file\n",
    "df_train = pd.read_csv('ml-groupings/naive_bayes/train.csv', encoding='latin1')"
   ]
  },
  {
   "cell_type": "markdown",
   "id": "7f52ca58-65ac-45a8-b5c8-9415312fb431",
   "metadata": {},
   "source": [
    "## Data Preparation"
   ]
  },
  {
   "cell_type": "code",
   "execution_count": 95,
   "id": "100b20ce-0dee-472a-adf0-392b3a780f57",
   "metadata": {},
   "outputs": [
    {
     "data": {
      "text/plain": [
       "label      False\n",
       "message    False\n",
       "dtype: bool"
      ]
     },
     "execution_count": 95,
     "metadata": {},
     "output_type": "execute_result"
    }
   ],
   "source": [
    "df_train.isnull().any()"
   ]
  },
  {
   "cell_type": "markdown",
   "id": "328abe2c-37ff-470c-87be-11eda1d7947d",
   "metadata": {},
   "source": [
    "*No missing values*"
   ]
  },
  {
   "cell_type": "code",
   "execution_count": 96,
   "id": "b66be635-0290-4b51-918a-fe7b426489f3",
   "metadata": {},
   "outputs": [
    {
     "data": {
      "text/html": [
       "<div>\n",
       "<style scoped>\n",
       "    .dataframe tbody tr th:only-of-type {\n",
       "        vertical-align: middle;\n",
       "    }\n",
       "\n",
       "    .dataframe tbody tr th {\n",
       "        vertical-align: top;\n",
       "    }\n",
       "\n",
       "    .dataframe thead th {\n",
       "        text-align: right;\n",
       "    }\n",
       "</style>\n",
       "<table border=\"1\" class=\"dataframe\">\n",
       "  <thead>\n",
       "    <tr style=\"text-align: right;\">\n",
       "      <th></th>\n",
       "      <th>label</th>\n",
       "      <th>message</th>\n",
       "    </tr>\n",
       "  </thead>\n",
       "  <tbody>\n",
       "    <tr>\n",
       "      <th>0</th>\n",
       "      <td>ham</td>\n",
       "      <td>Go until jurong point, crazy.. Available only ...</td>\n",
       "    </tr>\n",
       "    <tr>\n",
       "      <th>1</th>\n",
       "      <td>ham</td>\n",
       "      <td>Ok lar... Joking wif u oni...</td>\n",
       "    </tr>\n",
       "    <tr>\n",
       "      <th>2</th>\n",
       "      <td>spam</td>\n",
       "      <td>Free entry in 2 a wkly comp to win FA Cup fina...</td>\n",
       "    </tr>\n",
       "  </tbody>\n",
       "</table>\n",
       "</div>"
      ],
      "text/plain": [
       "  label                                            message\n",
       "0   ham  Go until jurong point, crazy.. Available only ...\n",
       "1   ham                      Ok lar... Joking wif u oni...\n",
       "2  spam  Free entry in 2 a wkly comp to win FA Cup fina..."
      ]
     },
     "execution_count": 96,
     "metadata": {},
     "output_type": "execute_result"
    }
   ],
   "source": [
    "df_train.head(3)"
   ]
  },
  {
   "cell_type": "code",
   "execution_count": 97,
   "id": "0927fb2e-48d6-4530-819f-f027b13eca7e",
   "metadata": {},
   "outputs": [],
   "source": [
    "# convert ham/spam to 0/1\n",
    "df_train['label'] = df_train['label'].map({'ham': 0,  'spam': 1})"
   ]
  },
  {
   "cell_type": "markdown",
   "id": "27b1f0fe-3e74-4446-b8e8-534d0715d8a5",
   "metadata": {},
   "source": [
    "#### Check the balance of the dataset"
   ]
  },
  {
   "cell_type": "code",
   "execution_count": 98,
   "id": "8adfa023-2750-4625-a322-a984f5223794",
   "metadata": {},
   "outputs": [
    {
     "data": {
      "text/plain": [
       "label\n",
       "0    0.866923\n",
       "1    0.133077\n",
       "Name: proportion, dtype: float64"
      ]
     },
     "execution_count": 98,
     "metadata": {},
     "output_type": "execute_result"
    }
   ],
   "source": [
    "df_train['label'].value_counts(normalize=True)"
   ]
  },
  {
   "cell_type": "code",
   "execution_count": 99,
   "id": "a6ae89a6-0394-47b5-8681-cbcc7337a923",
   "metadata": {},
   "outputs": [
    {
     "data": {
      "text/plain": [
       "label\n",
       "0    3381\n",
       "1     519\n",
       "Name: count, dtype: int64"
      ]
     },
     "execution_count": 99,
     "metadata": {},
     "output_type": "execute_result"
    }
   ],
   "source": [
    "df_train['label'].value_counts()"
   ]
  },
  {
   "cell_type": "markdown",
   "id": "c2414ed4-d7eb-4540-91bd-d38398ef9842",
   "metadata": {},
   "source": [
    "**Note**: We have an unbalanced dataset!"
   ]
  },
  {
   "cell_type": "markdown",
   "id": "fcf10fa1-058e-4080-9529-570a0190d49f",
   "metadata": {},
   "source": [
    "### Preprocessing features"
   ]
  },
  {
   "cell_type": "code",
   "execution_count": 100,
   "id": "a46ab3e5-486c-4fe1-a924-17128a993849",
   "metadata": {},
   "outputs": [],
   "source": [
    "# convert text to lowercase for consistency\n",
    "df_train['message'] = df_train['message'].str.lower()"
   ]
  },
  {
   "cell_type": "markdown",
   "id": "3c97bbd3-108c-490b-bb3c-f196b3784408",
   "metadata": {},
   "source": [
    "## Looking into the data"
   ]
  },
  {
   "cell_type": "markdown",
   "id": "4d483ff2",
   "metadata": {},
   "source": [
    "#### Visualize top phrases used in spam and ham emails"
   ]
  },
  {
   "cell_type": "code",
   "execution_count": 101,
   "id": "4517b63a",
   "metadata": {},
   "outputs": [
    {
     "data": {
      "image/png": "[encoded data removed]",
      "text/plain": [
       "<Figure size 1000x600 with 1 Axes>"
      ]
     },
     "metadata": {},
     "output_type": "display_data"
    }
   ],
   "source": [
    "cv = CountVectorizer(ngram_range=(2, 2), stop_words='english') # exclude common english words\n",
    "X = cv.fit_transform(df_train['message'])\n",
    "sum_words = X.sum(axis=0)\n",
    "words_freq = [(word, sum_words[0, idx]) for word, idx in cv.vocabulary_.items()]\n",
    "words_freq = sorted(words_freq, key=lambda x: x[1], reverse=True)[:20]\n",
    "top_ngrams = [word[0] for word in words_freq]\n",
    "plt.figure(figsize=(10, 6))\n",
    "sns.barplot(x=[word[0] for word in words_freq], y=[word[1] for word in words_freq])\n",
    "plt.title('Top 20 N-Grams')\n",
    "plt.xlabel('N-Gram')\n",
    "plt.ylabel('Frequency')\n",
    "plt.xticks(rotation=45)\n",
    "plt.tight_layout()\n",
    "plt.show()"
   ]
  },
  {
   "cell_type": "markdown",
   "id": "52cc365d-f735-4c7e-857d-a8375f1dcb64",
   "metadata": {},
   "source": [
    "#### Checking email length for spam/ham"
   ]
  },
  {
   "cell_type": "code",
   "execution_count": 102,
   "id": "865ce57f-cd55-4be3-be11-cd232fe29436",
   "metadata": {},
   "outputs": [],
   "source": [
    "def get_email_length(msg):\n",
    "    return len(msg)"
   ]
  },
  {
   "cell_type": "code",
   "execution_count": 103,
   "id": "ced1491b-1283-4785-841a-5c54c2683e97",
   "metadata": {},
   "outputs": [],
   "source": [
    "df_train['length'] = df_train['message'].apply(get_email_length)"
   ]
  },
  {
   "cell_type": "code",
   "execution_count": 104,
   "id": "7c42c4b1-f76f-49e8-a35e-208a0ea33fa7",
   "metadata": {},
   "outputs": [
    {
     "data": {
      "text/plain": [
       "71.19195504288672"
      ]
     },
     "execution_count": 104,
     "metadata": {},
     "output_type": "execute_result"
    }
   ],
   "source": [
    "# get average length of ham emails\n",
    "df_train[df_train['label'] == 0].length.sum() / len(df_train[df_train['label'] == 0])"
   ]
  },
  {
   "cell_type": "code",
   "execution_count": 105,
   "id": "fc68ee20-b23e-40e4-9e28-1ef1b7cddf58",
   "metadata": {},
   "outputs": [
    {
     "data": {
      "text/plain": [
       "139.35452793834295"
      ]
     },
     "execution_count": 105,
     "metadata": {},
     "output_type": "execute_result"
    }
   ],
   "source": [
    "# get average length of spam emails\n",
    "df_train[df_train['label'] == 1].length.sum() / len(df_train[df_train['label'] == 1])"
   ]
  },
  {
   "cell_type": "markdown",
   "id": "400b41fc-823b-4c5a-926b-6a9d223faeba",
   "metadata": {},
   "source": [
    "This is quite insightful. It is a conventional fact that spam messages are usually longer in length."
   ]
  },
  {
   "cell_type": "code",
   "execution_count": 106,
   "id": "0d4ee9ca",
   "metadata": {},
   "outputs": [
    {
     "data": {
      "image/png": "[encoded data removed]",
      "text/plain": [
       "<Figure size 640x480 with 1 Axes>"
      ]
     },
     "metadata": {},
     "output_type": "display_data"
    }
   ],
   "source": [
    "# normalize and compare lengths of spam and ham emails\n",
    "sns.histplot(df_train[df_train['label'] == 1]['length'], bins=25, stat='density', color='red', label='Spam');\n",
    "sns.histplot(df_train[df_train['label'] == 0]['length'], bins=25, stat='density', color='blue', label='Ham');\n",
    "plt.legend()\n",
    "plt.title('Normalized Length Distribution of Spam and Ham Emails')\n",
    "plt.xlabel('Email Length')\n",
    "plt.ylabel('Density')\n",
    "plt.show()"
   ]
  },
  {
   "cell_type": "code",
   "execution_count": 107,
   "id": "05abc075",
   "metadata": {},
   "outputs": [],
   "source": [
    "def clean_text(text):\n",
    "    # Convert text to lowercase\n",
    "    text = text.lower()\n",
    "    \n",
    "    # Remove special characters and digits\n",
    "    text = re.sub(r'[^a-zA-Z\\s]', '', text)\n",
    "    \n",
    "    # Remove links\n",
    "    text = re.sub(r'http\\S+', '', text)\n",
    "    \n",
    "    # Tokenize the text\n",
    "    words = word_tokenize(text)\n",
    "    \n",
    "    # Remove stopwords\n",
    "    stop_words = set(stopwords.words('english'))\n",
    "    filtered_words = [word for word in words if word not in stop_words]\n",
    "    \n",
    "    # Initialize Porter Stemmer\n",
    "    stemmer = PorterStemmer()\n",
    "    \n",
    "    # Perform stemming\n",
    "    stemmed_words = [stemmer.stem(word) for word in filtered_words]\n",
    "    \n",
    "    # Join the stemmed words back into a single string\n",
    "    cleaned_text = ' '.join(stemmed_words)\n",
    "    \n",
    "    return cleaned_text\n",
    "\n",
    "df_train['clean_text'] = df_train['message'].apply(lambda x: clean_text(x))"
   ]
  },
  {
   "cell_type": "markdown",
   "id": "aff4912e",
   "metadata": {},
   "source": [
    "#### Data balancing\n",
    "RandomOverSamplet() is a technique used to balance the classes in a dataset by randomly duplicating examples from the minority class"
   ]
  },
  {
   "cell_type": "code",
   "execution_count": 108,
   "id": "45a858ff",
   "metadata": {},
   "outputs": [
    {
     "data": {
      "text/plain": [
       "label\n",
       "0    3381\n",
       "1    3381\n",
       "Name: count, dtype: int64"
      ]
     },
     "execution_count": 108,
     "metadata": {},
     "output_type": "execute_result"
    }
   ],
   "source": [
    "X = df_train.drop('label', axis=1)\n",
    "y = df_train['label']\n",
    "\n",
    "# initialize resampling technique\n",
    "oversampler = RandomOverSampler()\n",
    "\n",
    "# do the resampling\n",
    "X_resampled, y_resampled = oversampler.fit_resample(X, y)\n",
    "\n",
    "df_balanced = pd.DataFrame(X_resampled, columns=X.columns)\n",
    "df_balanced['label'] = y_resampled\n",
    "\n",
    "# check balanced classes\n",
    "df_balanced['label'].value_counts()\n"
   ]
  },
  {
   "cell_type": "markdown",
   "id": "5ba09c46-8cc7-4c9d-805a-d62b6a383c28",
   "metadata": {},
   "source": [
    "#### Data Splitting / TF-IDF Vectorization\n",
    "\n",
    "##### Difference Between TF-IDF and CountVectorizer\n",
    "\n",
    "- **CountVectorizer**:\n",
    "  - Converts a collection of text documents to a matrix of token counts.\n",
    "  - Each entry in the matrix represents the frequency of a word in a document.\n",
    "  - Does not consider the importance of words; all words are treated equally.\n",
    "\n",
    "- **TF-IDF (Term Frequency-Inverse Document Frequency)**:\n",
    "  - A statistical measure that evaluates the importance of a word in a document relative to a collection.\n",
    "  - Considers both the frequency of a word in a document and how common or rare the word is across all documents.\n",
    "  - Helps to reduce the weight of common words and increase the weight of rare words, making it more effective for information retrieval and text mining."
   ]
  },
  {
   "cell_type": "code",
   "execution_count": 113,
   "id": "82fc1a92-6898-4258-8c6a-0fa81bf648cf",
   "metadata": {},
   "outputs": [],
   "source": [
    "# copy of df_train\n",
    "df = df_train.copy()\n",
    "del df['length'] # remove length from the copy\n",
    "\n",
    "# split to train and validation\n",
    "X_train, X_val, y_train, y_val = train_test_split(df_balanced['clean_text'], df_balanced['label'].values, test_size=0.2, random_state=42) # use the balanced dataset\n",
    "\n",
    "# use TF-IDF vectorization\n",
    "tfidf_vectorizer = TfidfVectorizer()\n",
    "X_train_tfidf = tfidf_vectorizer.fit_transform(X_train)\n",
    "X_test_tfidf = tfidf_vectorizer.transform(X_val)"
   ]
  },
  {
   "cell_type": "code",
   "execution_count": 114,
   "id": "f2fcdf2c-443a-48a0-991b-8320cd7325f6",
   "metadata": {},
   "outputs": [],
   "source": [
    "# must be equal length\n",
    "assert len(X_train) == len(y_train)\n",
    "assert len(X_val) == len(y_val)"
   ]
  },
  {
   "cell_type": "markdown",
   "id": "71656c5f-4fd6-47bb-a779-2210cf79436a",
   "metadata": {},
   "source": [
    "## Feature Engineering"
   ]
  },
  {
   "cell_type": "markdown",
   "id": "3bea3ce0-0fe9-4560-adff-7c9ead561d90",
   "metadata": {},
   "source": [
    "#### Verifying transformation"
   ]
  },
  {
   "cell_type": "code",
   "execution_count": 231,
   "id": "9bc54d59-64b2-44ce-9059-ccf64f1da99e",
   "metadata": {},
   "outputs": [],
   "source": [
    "sample = X_train.iloc[0]\n",
    "x = cv.transform([sample['message']])"
   ]
  },
  {
   "cell_type": "code",
   "execution_count": 232,
   "id": "5c31b027-a023-489e-a893-9a7374ec4502",
   "metadata": {},
   "outputs": [
    {
     "data": {
      "text/plain": [
       "label                                    0\n",
       "message    kallis wont bat in 2nd innings.\n",
       "Name: 0, dtype: object"
      ]
     },
     "execution_count": 232,
     "metadata": {},
     "output_type": "execute_result"
    }
   ],
   "source": [
    "sample"
   ]
  },
  {
   "cell_type": "code",
   "execution_count": 233,
   "id": "6a4753f1-45d5-499a-9ff7-83f8e52d4405",
   "metadata": {},
   "outputs": [
    {
     "name": "stdout",
     "output_type": "stream",
     "text": [
      "<Compressed Sparse Row sparse matrix of dtype 'int64'\n",
      "\twith 5 stored elements and shape (1, 6456)>\n",
      "  Coords\tValues\n",
      "  (0, 319)\t1\n",
      "  (0, 993)\t1\n",
      "  (0, 3031)\t1\n",
      "  (0, 3215)\t1\n",
      "  (0, 6299)\t1\n"
     ]
    }
   ],
   "source": [
    "print(x)"
   ]
  },
  {
   "cell_type": "markdown",
   "id": "e1e3a3ef-539d-4760-b0f7-36943b2de608",
   "metadata": {},
   "source": [
    "## Naive Bayes"
   ]
  },
  {
   "cell_type": "code",
   "execution_count": 234,
   "id": "65770d4a-f8cc-444e-9d34-13bc88215af8",
   "metadata": {},
   "outputs": [
    {
     "data": {
      "text/plain": [
       "(np.float64(0.8634615384615385), np.float64(0.13653846153846153))"
      ]
     },
     "execution_count": 234,
     "metadata": {},
     "output_type": "execute_result"
    }
   ],
   "source": [
    "X_spam = X[X_train['label'] == 1]\n",
    "X_ham = X[X_train['label'] == 0]\n",
    "\n",
    "# sum of classes\n",
    "spam_word_counts = np.array(X_spam.sum(axis=0)).flatten()\n",
    "ham_word_counts = np.array(X_ham.sum(axis=0)).flatten()\n",
    "\n",
    "# total words\n",
    "total_spam_words = spam_word_counts.sum()\n",
    "total_ham_words = ham_word_counts.sum()\n",
    "\n",
    "vocab_size = len(cv.vocabulary_)\n",
    "\n",
    "# get prior probabilities\n",
    "train_length = len(X_train)\n",
    "prior_proba_ham = np.sum(y_train == 0) / train_length\n",
    "prior_proba_spam = np.sum(y_train == 1)  / train_length\n",
    "prior_proba_ham, prior_proba_spam"
   ]
  },
  {
   "cell_type": "markdown",
   "id": "dc386e4f-63ea-4a9a-b9a3-4ad2db193284",
   "metadata": {},
   "source": [
    "Here, we are going to use **Laplace smoothing** where\n",
    "\n",
    "```\n",
    "xi + a / N + ad\n",
    "```"
   ]
  },
  {
   "cell_type": "code",
   "execution_count": 235,
   "id": "1357f7b4-b915-4331-a4cb-33208969787e",
   "metadata": {},
   "outputs": [],
   "source": [
    "# laplace smoothing, add a=1, d=vocab_size to counts and then increase denominator by vocab size\n",
    "# this is to avoid cases where spam/ham_word_counts is zero as it can impact the result\n",
    "a = 1 # regularization value\n",
    "word_proba_spam = (spam_word_counts + a) / (total_spam_words + a * vocab_size)\n",
    "word_proba_ham = (ham_word_counts + a) / (total_ham_words + a * vocab_size)"
   ]
  },
  {
   "cell_type": "code",
   "execution_count": 236,
   "id": "b09cc2e8-66d2-4cc2-989d-fb07be9f3f70",
   "metadata": {},
   "outputs": [],
   "source": [
    "def predict_proba_ham(message):\n",
    "    X = cv.transform([message])\n",
    "    indices = X.indices\n",
    "    result = prior_proba_ham\n",
    "    for index in indices:\n",
    "        result *= (word_proba_ham[index])\n",
    "\n",
    "    return result\n",
    "\n",
    "def predict_proba_spam(message):\n",
    "    X = cv.transform([message])\n",
    "    indices = X.indices\n",
    "    result = prior_proba_spam\n",
    "    for index in indices:\n",
    "        result *= (word_proba_spam[index])\n",
    "\n",
    "    return result\n",
    "\n",
    "def predict(message):\n",
    "    ham_proba = predict_proba_ham(message)\n",
    "    spam_proba = predict_proba_spam(message)\n",
    "    return 0 if ham_proba > spam_proba else 1"
   ]
  },
  {
   "cell_type": "code",
   "execution_count": 237,
   "id": "73b670d7-60f0-473b-8844-f3b156ee9148",
   "metadata": {},
   "outputs": [],
   "source": [
    "df_result = pd.DataFrame({\n",
    "    'prediction': X_val['message'].apply(predict).values,\n",
    "    'actual': y_val\n",
    "})"
   ]
  },
  {
   "cell_type": "code",
   "execution_count": 238,
   "id": "df235c1b-da9c-42ae-8cc5-848c174cd304",
   "metadata": {},
   "outputs": [
    {
     "name": "stdout",
     "output_type": "stream",
     "text": [
      "Spam or Ham Accuracy: 0.9871794871794872\n"
     ]
    }
   ],
   "source": [
    "print(f\"Spam or Ham Accuracy: {accuracy_score(df_result.actual, df_result.prediction)}\")"
   ]
  },
  {
   "cell_type": "markdown",
   "id": "49491699-9911-44a8-92a5-a3f6f6b536b5",
   "metadata": {},
   "source": [
    "## Full Training"
   ]
  },
  {
   "cell_type": "code",
   "execution_count": 242,
   "id": "511cf856-4096-4d7a-94b3-a4b750289e1d",
   "metadata": {},
   "outputs": [],
   "source": [
    "# initialize cv\n",
    "cv = CountVectorizer()\n",
    "\n",
    "# fit transform\n",
    "X = cv.fit_transform(df_train['message'].values)\n",
    "\n",
    "X_spam = X[df_train['label'] == 1]\n",
    "X_ham = X[df_train['label'] == 0]\n",
    "\n",
    "# sum of classes\n",
    "spam_word_counts = np.array(X_spam.sum(axis=0)).flatten()\n",
    "ham_word_counts = np.array(X_ham.sum(axis=0)).flatten()\n",
    "\n",
    "# total words\n",
    "total_spam_words = spam_word_counts.sum()\n",
    "total_ham_words = ham_word_counts.sum()\n",
    "\n",
    "vocab_size = len(cv.vocabulary_)\n",
    "\n",
    "# get prior probabilities\n",
    "train_length = len(X_train)\n",
    "prior_proba_ham = np.sum(y_train == 0) / train_length\n",
    "prior_proba_spam = np.sum(y_train == 1)  / train_length\n",
    "prior_proba_ham, prior_proba_spam\n",
    "\n",
    "# laplace smoothing, add a=1, d=vocab_size to counts and then increase denominator by vocab size\n",
    "# this is to avoid cases where spam/ham_word_counts is zero as it can impact the result\n",
    "a = 1 # regularization value\n",
    "word_proba_spam = (spam_word_counts + a) / (total_spam_words + a * vocab_size)\n",
    "word_proba_ham = (ham_word_counts + a) / (total_ham_words + a * vocab_size)"
   ]
  },
  {
   "cell_type": "markdown",
   "id": "f50c2294-cd12-40db-9af4-8ebeb1d51965",
   "metadata": {},
   "source": [
    "#### Training Set Accuracy"
   ]
  },
  {
   "cell_type": "code",
   "execution_count": 248,
   "id": "286dc9c1-8b21-4b4f-bad2-4be5189391fd",
   "metadata": {},
   "outputs": [
    {
     "name": "stdout",
     "output_type": "stream",
     "text": [
      "Spam or Ham Accuracy: 0.9951282051282051\n"
     ]
    }
   ],
   "source": [
    "df_result = pd.DataFrame({\n",
    "    'prediction': df_train['message'].apply(predict).values,\n",
    "    'actual': df_train['label']\n",
    "})\n",
    "print(f\"Spam or Ham Accuracy: {accuracy_score(df_result.actual, df_result.prediction)}\")"
   ]
  },
  {
   "cell_type": "markdown",
   "id": "4d78cd3d-0b5a-4715-aa61-a330a7ffb3f5",
   "metadata": {},
   "source": [
    "#### Test Set Accuracy"
   ]
  },
  {
   "cell_type": "code",
   "execution_count": 245,
   "id": "73a08e43-8a9c-4dc5-be45-d6c3a958d2e6",
   "metadata": {},
   "outputs": [],
   "source": [
    "df_test = pd.read_csv('test.csv', encoding='latin1')"
   ]
  },
  {
   "cell_type": "code",
   "execution_count": 247,
   "id": "85c424e5-2d0a-4095-81ad-600d3a50f769",
   "metadata": {},
   "outputs": [
    {
     "data": {
      "text/html": [
       "<div>\n",
       "<style scoped>\n",
       "    .dataframe tbody tr th:only-of-type {\n",
       "        vertical-align: middle;\n",
       "    }\n",
       "\n",
       "    .dataframe tbody tr th {\n",
       "        vertical-align: top;\n",
       "    }\n",
       "\n",
       "    .dataframe thead th {\n",
       "        text-align: right;\n",
       "    }\n",
       "</style>\n",
       "<table border=\"1\" class=\"dataframe\">\n",
       "  <thead>\n",
       "    <tr style=\"text-align: right;\">\n",
       "      <th></th>\n",
       "      <th>message</th>\n",
       "    </tr>\n",
       "  </thead>\n",
       "  <tbody>\n",
       "    <tr>\n",
       "      <th>0</th>\n",
       "      <td>That depends. How would you like to be treated...</td>\n",
       "    </tr>\n",
       "    <tr>\n",
       "      <th>1</th>\n",
       "      <td>Right on brah, see you later</td>\n",
       "    </tr>\n",
       "    <tr>\n",
       "      <th>2</th>\n",
       "      <td>Waiting in e car 4 my mum lor. U leh? Reach ho...</td>\n",
       "    </tr>\n",
       "    <tr>\n",
       "      <th>3</th>\n",
       "      <td>Your 2004 account for 07XXXXXXXXX shows 786 un...</td>\n",
       "    </tr>\n",
       "    <tr>\n",
       "      <th>4</th>\n",
       "      <td>Do you want a new video handset? 750 anytime a...</td>\n",
       "    </tr>\n",
       "  </tbody>\n",
       "</table>\n",
       "</div>"
      ],
      "text/plain": [
       "                                             message\n",
       "0  That depends. How would you like to be treated...\n",
       "1                       Right on brah, see you later\n",
       "2  Waiting in e car 4 my mum lor. U leh? Reach ho...\n",
       "3  Your 2004 account for 07XXXXXXXXX shows 786 un...\n",
       "4  Do you want a new video handset? 750 anytime a..."
      ]
     },
     "execution_count": 247,
     "metadata": {},
     "output_type": "execute_result"
    }
   ],
   "source": [
    "df_test.head()"
   ]
  },
  {
   "cell_type": "code",
   "execution_count": 253,
   "id": "16d96e4e-da9b-4185-86cb-6cb1e9aa3c05",
   "metadata": {},
   "outputs": [
    {
     "data": {
      "text/html": [
       "<div>\n",
       "<style scoped>\n",
       "    .dataframe tbody tr th:only-of-type {\n",
       "        vertical-align: middle;\n",
       "    }\n",
       "\n",
       "    .dataframe tbody tr th {\n",
       "        vertical-align: top;\n",
       "    }\n",
       "\n",
       "    .dataframe thead th {\n",
       "        text-align: right;\n",
       "    }\n",
       "</style>\n",
       "<table border=\"1\" class=\"dataframe\">\n",
       "  <thead>\n",
       "    <tr style=\"text-align: right;\">\n",
       "      <th></th>\n",
       "      <th>message</th>\n",
       "      <th>prediction</th>\n",
       "      <th>category</th>\n",
       "    </tr>\n",
       "  </thead>\n",
       "  <tbody>\n",
       "    <tr>\n",
       "      <th>0</th>\n",
       "      <td>That depends. How would you like to be treated...</td>\n",
       "      <td>0</td>\n",
       "      <td>ham</td>\n",
       "    </tr>\n",
       "    <tr>\n",
       "      <th>1</th>\n",
       "      <td>Right on brah, see you later</td>\n",
       "      <td>0</td>\n",
       "      <td>ham</td>\n",
       "    </tr>\n",
       "    <tr>\n",
       "      <th>2</th>\n",
       "      <td>Waiting in e car 4 my mum lor. U leh? Reach ho...</td>\n",
       "      <td>0</td>\n",
       "      <td>ham</td>\n",
       "    </tr>\n",
       "    <tr>\n",
       "      <th>3</th>\n",
       "      <td>Your 2004 account for 07XXXXXXXXX shows 786 un...</td>\n",
       "      <td>1</td>\n",
       "      <td>spam</td>\n",
       "    </tr>\n",
       "    <tr>\n",
       "      <th>4</th>\n",
       "      <td>Do you want a new video handset? 750 anytime a...</td>\n",
       "      <td>1</td>\n",
       "      <td>spam</td>\n",
       "    </tr>\n",
       "  </tbody>\n",
       "</table>\n",
       "</div>"
      ],
      "text/plain": [
       "                                             message  prediction category\n",
       "0  That depends. How would you like to be treated...           0      ham\n",
       "1                       Right on brah, see you later           0      ham\n",
       "2  Waiting in e car 4 my mum lor. U leh? Reach ho...           0      ham\n",
       "3  Your 2004 account for 07XXXXXXXXX shows 786 un...           1     spam\n",
       "4  Do you want a new video handset? 750 anytime a...           1     spam"
      ]
     },
     "execution_count": 253,
     "metadata": {},
     "output_type": "execute_result"
    }
   ],
   "source": [
    "df_test['prediction'] = df_test['message'].apply(predict).values\n",
    "df_test['category'] = df_test['message'].apply(lambda msg: 'spam' if predict(msg) == 1 else 'ham')\n",
    "\n",
    "df_test.head()"
   ]
  }
 ],
 "metadata": {
  "kernelspec": {
   "display_name": "Python 3 (ipykernel)",
   "language": "python",
   "name": "python3"
  },
  "language_info": {
   "codemirror_mode": {
    "name": "ipython",
    "version": 3
   },
   "file_extension": ".py",
   "mimetype": "text/x-python",
   "name": "python",
   "nbconvert_exporter": "python",
   "pygments_lexer": "ipython3",
   "version": "3.12.7"
  }
 },
 "nbformat": 4,
 "nbformat_minor": 5
}
